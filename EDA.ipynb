{
 "cells": [
  {
   "cell_type": "markdown",
   "metadata": {},
   "source": [
    "# PlayTimeGenre EDA y Tranformacion"
   ]
  },
  {
   "cell_type": "code",
   "execution_count": 78,
   "metadata": {},
   "outputs": [],
   "source": [
    "# importacion de librerias\n",
    "import pandas as pd\n",
    "from datetime import datetime\n",
    "import html"
   ]
  },
  {
   "cell_type": "markdown",
   "metadata": {},
   "source": [
    "Lectura de los datasets necesarios para el endpoint\n",
    "\n",
    "* users_items.csv: solo se cargan las columnas 'item_id' y 'playtime_forever'\n",
    "* steam_game.csv: solo se cargan las columas 'genres', 'release_date' y 'id'"
   ]
  },
  {
   "cell_type": "code",
   "execution_count": 79,
   "metadata": {},
   "outputs": [],
   "source": [
    "df_users_item = pd.read_csv(\"../csv/users_items.csv\", sep=\",\", usecols=['item_id', 'playtime_forever'])\n",
    "df_steam_game = pd.read_csv(\"../csv/steam_game.csv\", sep=\",\", usecols=['genres', 'release_date', 'id'], parse_dates=[\"release_date\"], date_format='%Y-%m-%d')"
   ]
  },
  {
   "cell_type": "markdown",
   "metadata": {},
   "source": [
    "## Procesamiento de los users_items\n",
    "\n",
    "Se agrupan por item_id y se sumariza el playtime_forever"
   ]
  },
  {
   "cell_type": "code",
   "execution_count": 82,
   "metadata": {},
   "outputs": [
    {
     "data": {
      "text/html": [
       "<div>\n",
       "<style scoped>\n",
       "    .dataframe tbody tr th:only-of-type {\n",
       "        vertical-align: middle;\n",
       "    }\n",
       "\n",
       "    .dataframe tbody tr th {\n",
       "        vertical-align: top;\n",
       "    }\n",
       "\n",
       "    .dataframe thead th {\n",
       "        text-align: right;\n",
       "    }\n",
       "</style>\n",
       "<table border=\"1\" class=\"dataframe\">\n",
       "  <thead>\n",
       "    <tr style=\"text-align: right;\">\n",
       "      <th></th>\n",
       "      <th>item_id</th>\n",
       "      <th>playtime_forever</th>\n",
       "    </tr>\n",
       "  </thead>\n",
       "  <tbody>\n",
       "    <tr>\n",
       "      <th>0</th>\n",
       "      <td>10</td>\n",
       "      <td>17107858</td>\n",
       "    </tr>\n",
       "    <tr>\n",
       "      <th>1</th>\n",
       "      <td>20</td>\n",
       "      <td>960524</td>\n",
       "    </tr>\n",
       "    <tr>\n",
       "      <th>2</th>\n",
       "      <td>30</td>\n",
       "      <td>756375</td>\n",
       "    </tr>\n",
       "    <tr>\n",
       "      <th>3</th>\n",
       "      <td>40</td>\n",
       "      <td>154424</td>\n",
       "    </tr>\n",
       "    <tr>\n",
       "      <th>4</th>\n",
       "      <td>50</td>\n",
       "      <td>726545</td>\n",
       "    </tr>\n",
       "  </tbody>\n",
       "</table>\n",
       "</div>"
      ],
      "text/plain": [
       "   item_id  playtime_forever\n",
       "0       10          17107858\n",
       "1       20            960524\n",
       "2       30            756375\n",
       "3       40            154424\n",
       "4       50            726545"
      ]
     },
     "execution_count": 82,
     "metadata": {},
     "output_type": "execute_result"
    }
   ],
   "source": [
    "df_juegos_playtime = df_users_item.groupby(by='item_id',as_index=False)['playtime_forever'].sum()\n",
    "df_juegos_playtime.head()"
   ]
  },
  {
   "cell_type": "code",
   "execution_count": 87,
   "metadata": {},
   "outputs": [],
   "source": [
    "#se renombra la comlumna para futuro merge\n",
    "df_juegos_playtime.rename(columns={'item_id':'id','playtime_forever':'playtime'},inplace=True)"
   ]
  },
  {
   "cell_type": "code",
   "execution_count": 88,
   "metadata": {},
   "outputs": [
    {
     "name": "stdout",
     "output_type": "stream",
     "text": [
      "<class 'pandas.core.frame.DataFrame'>\n",
      "RangeIndex: 10978 entries, 0 to 10977\n",
      "Data columns (total 2 columns):\n",
      " #   Column    Non-Null Count  Dtype\n",
      "---  ------    --------------  -----\n",
      " 0   id        10978 non-null  int64\n",
      " 1   playtime  10978 non-null  int64\n",
      "dtypes: int64(2)\n",
      "memory usage: 171.7 KB\n"
     ]
    }
   ],
   "source": [
    "#no hay nulos\n",
    "df_juegos_playtime.info()"
   ]
  },
  {
   "cell_type": "markdown",
   "metadata": {},
   "source": [
    "## Procesamiento de steam_game\n",
    "\n",
    "Se agrupan por item_id y se sumariza el playtime_forever"
   ]
  },
  {
   "cell_type": "code",
   "execution_count": 89,
   "metadata": {},
   "outputs": [
    {
     "name": "stdout",
     "output_type": "stream",
     "text": [
      "<class 'pandas.core.frame.DataFrame'>\n",
      "RangeIndex: 32132 entries, 0 to 32131\n",
      "Data columns (total 3 columns):\n",
      " #   Column        Non-Null Count  Dtype \n",
      "---  ------        --------------  ----- \n",
      " 0   genres        28850 non-null  object\n",
      " 1   release_date  30066 non-null  object\n",
      " 2   id            32132 non-null  int64 \n",
      "dtypes: int64(1), object(2)\n",
      "memory usage: 753.2+ KB\n"
     ]
    }
   ],
   "source": [
    "# se detectan nulos, si alguna fila tiene algún nulo, la fila no es relevante, se debe eliminar\n",
    "df_steam_game.info()"
   ]
  },
  {
   "cell_type": "code",
   "execution_count": 90,
   "metadata": {},
   "outputs": [
    {
     "data": {
      "text/plain": [
       "(28832, 3)"
      ]
     },
     "execution_count": 90,
     "metadata": {},
     "output_type": "execute_result"
    }
   ],
   "source": [
    "#eliminar filas que contengan alguna columna en null no son aptas para la funcionalidad\n",
    "df_steam_game.dropna(inplace = True)\n",
    "df_steam_game.shape"
   ]
  },
  {
   "cell_type": "markdown",
   "metadata": {},
   "source": [
    "Se realiza el merge de los datframes a partir del id\n",
    "\n",
    "el inner join es adecuado ya que valores nulos en el resultado no serían relevantes"
   ]
  },
  {
   "cell_type": "code",
   "execution_count": 91,
   "metadata": {},
   "outputs": [
    {
     "data": {
      "text/html": [
       "<div>\n",
       "<style scoped>\n",
       "    .dataframe tbody tr th:only-of-type {\n",
       "        vertical-align: middle;\n",
       "    }\n",
       "\n",
       "    .dataframe tbody tr th {\n",
       "        vertical-align: top;\n",
       "    }\n",
       "\n",
       "    .dataframe thead th {\n",
       "        text-align: right;\n",
       "    }\n",
       "</style>\n",
       "<table border=\"1\" class=\"dataframe\">\n",
       "  <thead>\n",
       "    <tr style=\"text-align: right;\">\n",
       "      <th></th>\n",
       "      <th>genres</th>\n",
       "      <th>release_date</th>\n",
       "      <th>id</th>\n",
       "      <th>playtime</th>\n",
       "    </tr>\n",
       "  </thead>\n",
       "  <tbody>\n",
       "    <tr>\n",
       "      <th>0</th>\n",
       "      <td>['Action', 'Indie', 'Racing']</td>\n",
       "      <td>1997-06-30</td>\n",
       "      <td>282010</td>\n",
       "      <td>9319</td>\n",
       "    </tr>\n",
       "    <tr>\n",
       "      <th>1</th>\n",
       "      <td>['Action']</td>\n",
       "      <td>1998-11-08</td>\n",
       "      <td>70</td>\n",
       "      <td>2650946</td>\n",
       "    </tr>\n",
       "    <tr>\n",
       "      <th>2</th>\n",
       "      <td>['Strategy']</td>\n",
       "      <td>2006-07-06</td>\n",
       "      <td>1640</td>\n",
       "      <td>27162</td>\n",
       "    </tr>\n",
       "    <tr>\n",
       "      <th>3</th>\n",
       "      <td>['Strategy']</td>\n",
       "      <td>2006-07-06</td>\n",
       "      <td>1630</td>\n",
       "      <td>21105</td>\n",
       "    </tr>\n",
       "    <tr>\n",
       "      <th>4</th>\n",
       "      <td>['Action', 'Indie', 'RPG']</td>\n",
       "      <td>2006-07-11</td>\n",
       "      <td>2400</td>\n",
       "      <td>1030947</td>\n",
       "    </tr>\n",
       "  </tbody>\n",
       "</table>\n",
       "</div>"
      ],
      "text/plain": [
       "                          genres release_date      id  playtime\n",
       "0  ['Action', 'Indie', 'Racing']   1997-06-30  282010      9319\n",
       "1                     ['Action']   1998-11-08      70   2650946\n",
       "2                   ['Strategy']   2006-07-06    1640     27162\n",
       "3                   ['Strategy']   2006-07-06    1630     21105\n",
       "4     ['Action', 'Indie', 'RPG']   2006-07-11    2400   1030947"
      ]
     },
     "execution_count": 91,
     "metadata": {},
     "output_type": "execute_result"
    }
   ],
   "source": [
    "df_play_time_genre = pd.merge(df_steam_game, df_juegos_playtime, on='id')\n",
    "df_play_time_genre.head()"
   ]
  },
  {
   "cell_type": "code",
   "execution_count": 92,
   "metadata": {},
   "outputs": [
    {
     "name": "stdout",
     "output_type": "stream",
     "text": [
      "<class 'pandas.core.frame.DataFrame'>\n",
      "RangeIndex: 8653 entries, 0 to 8652\n",
      "Data columns (total 4 columns):\n",
      " #   Column        Non-Null Count  Dtype \n",
      "---  ------        --------------  ----- \n",
      " 0   genres        8653 non-null   object\n",
      " 1   release_date  8653 non-null   object\n",
      " 2   id            8653 non-null   int64 \n",
      " 3   playtime      8653 non-null   int64 \n",
      "dtypes: int64(2), object(2)\n",
      "memory usage: 270.5+ KB\n"
     ]
    }
   ],
   "source": [
    "#no se detectan nulos\n",
    "df_play_time_genre.info()"
   ]
  },
  {
   "cell_type": "code",
   "execution_count": 103,
   "metadata": {},
   "outputs": [
    {
     "data": {
      "text/plain": [
       "181              Jun 2009\n",
       "373              Oct 2010\n",
       "376              Oct 2010\n",
       "377              Oct 2010\n",
       "424              Feb 2011\n",
       "1279             Sep 2014\n",
       "1742             Apr 2015\n",
       "2938             Apr 2016\n",
       "3516    Not yet available\n",
       "3566             Apr 2017\n",
       "3571        Coming soon..\n",
       "3602         Coming Soon!\n",
       "3656             Oct 2016\n",
       "3981             Jul 2016\n",
       "4919                  TBD\n",
       "5520             Aug 2015\n",
       "5888             Jun 2015\n",
       "5973             May 2015\n",
       "6486             Jan 2015\n",
       "6853             Aug 2014\n",
       "6991             Jul 2014\n",
       "7117             May 2014\n",
       "7782             Dec 2012\n",
       "8205             Mar 2010\n",
       "8278             Oct 2009\n",
       "8320             Sep 2009\n",
       "Name: release_date, dtype: object"
      ]
     },
     "execution_count": 103,
     "metadata": {},
     "output_type": "execute_result"
    }
   ],
   "source": [
    "#se detectan fechas con diferentes formatos\n",
    "df_play_time_genre[df_play_time_genre[\"release_date\"].str.len() != 10][\"release_date\"]"
   ]
  },
  {
   "cell_type": "code",
   "execution_count": 56,
   "metadata": {},
   "outputs": [],
   "source": [
    "#se define una funcion para obtner el año\n",
    "def obtner_anio(cadena):\n",
    "    anio = None\n",
    "    fecha = cadena.split('-')\n",
    "    mes_anio = cadena.split(' ')\n",
    "    if len(fecha) == 3:\n",
    "        anio = fecha[0]\n",
    "    elif len(mes_anio) == 2 and len(mes_anio[1]) == 4:\n",
    "        anio = mes_anio[1]\n",
    "    return anio\n"
   ]
  },
  {
   "cell_type": "code",
   "execution_count": 104,
   "metadata": {},
   "outputs": [
    {
     "data": {
      "text/html": [
       "<div>\n",
       "<style scoped>\n",
       "    .dataframe tbody tr th:only-of-type {\n",
       "        vertical-align: middle;\n",
       "    }\n",
       "\n",
       "    .dataframe tbody tr th {\n",
       "        vertical-align: top;\n",
       "    }\n",
       "\n",
       "    .dataframe thead th {\n",
       "        text-align: right;\n",
       "    }\n",
       "</style>\n",
       "<table border=\"1\" class=\"dataframe\">\n",
       "  <thead>\n",
       "    <tr style=\"text-align: right;\">\n",
       "      <th></th>\n",
       "      <th>genre</th>\n",
       "      <th>anio</th>\n",
       "      <th>playtime</th>\n",
       "    </tr>\n",
       "  </thead>\n",
       "  <tbody>\n",
       "    <tr>\n",
       "      <th>0</th>\n",
       "      <td>action</td>\n",
       "      <td>1997</td>\n",
       "      <td>9319</td>\n",
       "    </tr>\n",
       "    <tr>\n",
       "      <th>1</th>\n",
       "      <td>indie</td>\n",
       "      <td>1997</td>\n",
       "      <td>9319</td>\n",
       "    </tr>\n",
       "    <tr>\n",
       "      <th>2</th>\n",
       "      <td>racing</td>\n",
       "      <td>1997</td>\n",
       "      <td>9319</td>\n",
       "    </tr>\n",
       "    <tr>\n",
       "      <th>3</th>\n",
       "      <td>action</td>\n",
       "      <td>1998</td>\n",
       "      <td>2650946</td>\n",
       "    </tr>\n",
       "    <tr>\n",
       "      <th>4</th>\n",
       "      <td>strategy</td>\n",
       "      <td>2006</td>\n",
       "      <td>27162</td>\n",
       "    </tr>\n",
       "  </tbody>\n",
       "</table>\n",
       "</div>"
      ],
      "text/plain": [
       "      genre  anio  playtime\n",
       "0    action  1997      9319\n",
       "1     indie  1997      9319\n",
       "2    racing  1997      9319\n",
       "3    action  1998   2650946\n",
       "4  strategy  2006     27162"
      ]
     },
     "execution_count": 104,
     "metadata": {},
     "output_type": "execute_result"
    }
   ],
   "source": [
    "# flatenizar, normalizar, escapar transformar entidades html\n",
    "\n",
    "data = []\n",
    "for indice, fila in df_play_time_genre.iterrows():\n",
    "    anio = obtner_anio(fila['release_date'])\n",
    "    playtime = fila['playtime']\n",
    "    genres = fila['genres'].strip('[]').split(',')\n",
    "    for genre in genres:\n",
    "        data.append({'genre':html.unescape(genre.replace(\"'\",\"\").lower()),'anio': anio, 'playtime': playtime})     \n",
    "    \n",
    "df_play_time_genre_flat = pd.DataFrame(data)\n",
    "#dimensiones\n",
    "df_play_time_genre_flat.head()"
   ]
  },
  {
   "cell_type": "code",
   "execution_count": 105,
   "metadata": {},
   "outputs": [
    {
     "data": {
      "text/plain": [
       "(21545, 3)"
      ]
     },
     "execution_count": 105,
     "metadata": {},
     "output_type": "execute_result"
    }
   ],
   "source": [
    "df_play_time_genre_flat.shape"
   ]
  },
  {
   "cell_type": "code",
   "execution_count": 106,
   "metadata": {},
   "outputs": [
    {
     "data": {
      "text/html": [
       "<div>\n",
       "<style scoped>\n",
       "    .dataframe tbody tr th:only-of-type {\n",
       "        vertical-align: middle;\n",
       "    }\n",
       "\n",
       "    .dataframe tbody tr th {\n",
       "        vertical-align: top;\n",
       "    }\n",
       "\n",
       "    .dataframe thead th {\n",
       "        text-align: right;\n",
       "    }\n",
       "</style>\n",
       "<table border=\"1\" class=\"dataframe\">\n",
       "  <thead>\n",
       "    <tr style=\"text-align: right;\">\n",
       "      <th></th>\n",
       "      <th>genre</th>\n",
       "      <th>anio</th>\n",
       "      <th>playtime</th>\n",
       "    </tr>\n",
       "  </thead>\n",
       "  <tbody>\n",
       "    <tr>\n",
       "      <th>0</th>\n",
       "      <td>action</td>\n",
       "      <td>2008</td>\n",
       "      <td>1058</td>\n",
       "    </tr>\n",
       "    <tr>\n",
       "      <th>1</th>\n",
       "      <td>action</td>\n",
       "      <td>2012</td>\n",
       "      <td>1978255</td>\n",
       "    </tr>\n",
       "    <tr>\n",
       "      <th>2</th>\n",
       "      <td>adventure</td>\n",
       "      <td>1983</td>\n",
       "      <td>3473</td>\n",
       "    </tr>\n",
       "    <tr>\n",
       "      <th>3</th>\n",
       "      <td>adventure</td>\n",
       "      <td>1984</td>\n",
       "      <td>384</td>\n",
       "    </tr>\n",
       "    <tr>\n",
       "      <th>4</th>\n",
       "      <td>adventure</td>\n",
       "      <td>1988</td>\n",
       "      <td>16001</td>\n",
       "    </tr>\n",
       "  </tbody>\n",
       "</table>\n",
       "</div>"
      ],
      "text/plain": [
       "        genre  anio  playtime\n",
       "0      action  2008      1058\n",
       "1      action  2012   1978255\n",
       "2   adventure  1983      3473\n",
       "3   adventure  1984       384\n",
       "4   adventure  1988     16001"
      ]
     },
     "execution_count": 106,
     "metadata": {},
     "output_type": "execute_result"
    }
   ],
   "source": [
    "#agrupar por genero y año, y sumarizar el tiempo jugado\n",
    "ptg_sum = df_play_time_genre_flat.groupby(['genre','anio'], as_index=False)['playtime'].sum()\n",
    "ptg_sum.head()\n"
   ]
  },
  {
   "cell_type": "code",
   "execution_count": 68,
   "metadata": {},
   "outputs": [
    {
     "data": {
      "text/plain": [
       "(545, 3)"
      ]
     },
     "execution_count": 68,
     "metadata": {},
     "output_type": "execute_result"
    }
   ],
   "source": [
    "ptg_sum.shape"
   ]
  },
  {
   "cell_type": "code",
   "execution_count": 108,
   "metadata": {},
   "outputs": [],
   "source": [
    "#se guarda como csv para render\n",
    "ptg_sum.to_csv(r'data/play_time_genre.csv',index=False)"
   ]
  },
  {
   "cell_type": "markdown",
   "metadata": {},
   "source": [
    "# Modelo de recomendación ML"
   ]
  },
  {
   "cell_type": "markdown",
   "metadata": {},
   "source": [
    "Se programa un sistema de recomendación ítem-ítem.\n",
    "\n",
    "Se usarán palabras correspondientes al dataset steam_game, con la vectorizacion de las palabras se creará una matriz de similitud de coseno.\n",
    "\n",
    "Finalemnte se exportrá un documento que contenga  5 recomendaciones para cada juego."
   ]
  },
  {
   "cell_type": "code",
   "execution_count": null,
   "metadata": {},
   "outputs": [],
   "source": [
    "# Se importan las librerías necesarias\n",
    "import pandas as pd\n",
    "from sklearn.feature_extraction.text import TfidfVectorizer\n",
    "import numpy as np\n",
    "from sklearn.metrics.pairwise import cosine_similarity"
   ]
  },
  {
   "cell_type": "code",
   "execution_count": null,
   "metadata": {},
   "outputs": [],
   "source": [
    "# Se leen las columnas importantes del dataset procesado durante el ETL\n",
    "\n",
    "df_steam_game = pd.read_csv(\"../csv/steam_game.csv\", sep=\",\", usecols=['publisher','genres','app_name','tags','specs', 'developer', 'id'])\n",
    "df_steam_game.head()"
   ]
  },
  {
   "cell_type": "code",
   "execution_count": null,
   "metadata": {},
   "outputs": [],
   "source": [
    "#Se eliminan filas con nulos\n",
    "df_steam_game.dropna(inplace=True)\n",
    "df_steam_game.shape"
   ]
  },
  {
   "cell_type": "code",
   "execution_count": null,
   "metadata": {},
   "outputs": [],
   "source": [
    "#exploracion de la columna publisher\n",
    "df_steam_game.publisher.value_counts()"
   ]
  },
  {
   "cell_type": "code",
   "execution_count": null,
   "metadata": {},
   "outputs": [],
   "source": [
    "#exploracion de la columna genres\n",
    "df_steam_game.genres.value_counts()"
   ]
  },
  {
   "cell_type": "code",
   "execution_count": null,
   "metadata": {},
   "outputs": [],
   "source": [
    "#se normalizan y limpian datos de columnas de texto importantes para la matriz de similitud\n",
    "\n",
    "df_steam_game[\"genres\"]=[str(genre).strip('[]').replace(\"'\",\"\").replace(\",\",\"\").replace(\"nan\",\"\") for genre in df_steam_game[\"genres\"]]\n",
    "df_steam_game[\"tags\"]=[str(tag).strip('[]').replace(\"'\",\"\").replace(\",\",\"\").replace(\"nan\",\"\") for tag in df_steam_game[\"tags\"]]\n",
    "df_steam_game[\"specs\"]=[str(spec).strip('[]').replace(\"'\",\"\").replace(\",\",\"\").replace(\"nan\",\"\") for spec in df_steam_game[\"specs\"]]\n",
    "df_steam_game[\"publisher\"]=[str(pub).replace(\",\",\"\").replace(\"nan\",\"\") for pub in df_steam_game[\"publisher\"]]\n",
    "df_steam_game[\"developer\"]=[str(dev).replace(\",\",\"\").replace(\"nan\",\"\") for dev in df_steam_game[\"developer\"]]"
   ]
  },
  {
   "cell_type": "code",
   "execution_count": null,
   "metadata": {},
   "outputs": [],
   "source": [
    "# se define una funcion que unificará las columnas de texto, juntar todas las palabras en una columna, llamada \"imp\"\n",
    "def important_features(dataset):\n",
    "    data=dataset.copy()\n",
    "    imp = []\n",
    "    for indice, fila in data.iterrows():        \n",
    "        imp.append(str(fila[\"publisher\"])+' '+str(fila[\"genres\"])+\" \"+str(fila[\"app_name\"])+\" \"+str(fila[\"tags\"])+\" \"+str(fila[\"specs\"])+\" \"+str(fila[\"developer\"]))\n",
    "    data[\"imp\"] = pd.DataFrame(imp)\n",
    "    return data"
   ]
  },
  {
   "cell_type": "code",
   "execution_count": null,
   "metadata": {},
   "outputs": [],
   "source": [
    "# se guarda el nuevo dataset en data\n",
    "data=important_features(df_steam_game)"
   ]
  },
  {
   "cell_type": "code",
   "execution_count": null,
   "metadata": {},
   "outputs": [],
   "source": [
    "#se guarda el dataset como csv ante un eventual crasheo de python \n",
    "data.to_csv(r'data/recomendacion_data.csv',index=False)"
   ]
  },
  {
   "cell_type": "code",
   "execution_count": null,
   "metadata": {},
   "outputs": [],
   "source": [
    "# se importa TfidfVectorizer\n",
    "\n",
    "vec=TfidfVectorizer()\n",
    "\n",
    "#se vetorizan las palabras de las features importantes, a media que se las comvierte de string de numpy\n",
    "\n",
    "vecs=vec.fit_transform(data[\"imp\"].apply(lambda x: np.str_(x)))"
   ]
  },
  {
   "cell_type": "code",
   "execution_count": null,
   "metadata": {},
   "outputs": [],
   "source": [
    "#se calcula la matriz de similitud, se tiene tantas filas y columnas como juegos\n",
    "similarity =cosine_similarity(vecs) "
   ]
  },
  {
   "cell_type": "code",
   "execution_count": null,
   "metadata": {},
   "outputs": [],
   "source": [
    "#se define una fucion que recibe el juego_id, se busca el index de ese juego en el dataset\n",
    "# se obtiene el vector de similitudes, se lo ordena de mayor a menor y se toman los 5 primeros valores, sin contar el juego mismo\n",
    "#con los indices de la matriz de simulitud se buscan los juegos y se guarda el nombre\n",
    "\n",
    "def recommend(id):    \n",
    "    game_idx=data[data[\"id\"] == id].index.values[0]\n",
    "    if game_idx < similarity.shape[0]:\n",
    "        scores=list(enumerate(similarity[game_idx]))\n",
    "        sorted_scores=sorted(scores,key=lambda x:x[1],reverse=True)\n",
    "        sorted_scores=sorted_scores[1:6]\n",
    "        games=[data.iloc[game[0]][\"app_name\"].replace('\"','') for game in sorted_scores]\n",
    "        return games\n",
    "    else:\n",
    "        return []"
   ]
  },
  {
   "cell_type": "code",
   "execution_count": null,
   "metadata": {},
   "outputs": [],
   "source": [
    "#finalmente se arma un dataset que contiene todos los juegos y las 5 sugerencias para cada uno\n",
    "# cual sera consumido por la api para responder a las peticiones\n",
    "\n",
    "recom = []\n",
    "for indice, fila in data.iterrows():\n",
    "    recom.append({'game_id':fila.id,'recom':recommend(fila.id)})\n",
    "    \n",
    "df_recom = pd.DataFrame(recom)\n",
    "\n",
    "\n",
    "df_recom.head()\n",
    "\n"
   ]
  },
  {
   "cell_type": "code",
   "execution_count": null,
   "metadata": {},
   "outputs": [],
   "source": [
    "df_recom.to_csv(r'data/recomendacion_db.csv', index=False, sep=\";\")"
   ]
  }
 ],
 "metadata": {
  "kernelspec": {
   "display_name": "Python 3",
   "language": "python",
   "name": "python3"
  },
  "language_info": {
   "codemirror_mode": {
    "name": "ipython",
    "version": 3
   },
   "file_extension": ".py",
   "mimetype": "text/x-python",
   "name": "python",
   "nbconvert_exporter": "python",
   "pygments_lexer": "ipython3",
   "version": "3.10.12"
  }
 },
 "nbformat": 4,
 "nbformat_minor": 2
}
