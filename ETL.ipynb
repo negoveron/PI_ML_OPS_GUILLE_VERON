{
 "cells": [
  {
   "cell_type": "code",
   "execution_count": 18,
   "metadata": {},
   "outputs": [],
   "source": [
    "#Se imprtan las librerias necesarias\n",
    "\n",
    "import gzip\n",
    "import ast\n",
    "import json\n",
    "import pandas as pd"
   ]
  },
  {
   "cell_type": "markdown",
   "metadata": {},
   "source": [
    "## Etapas propuestas para este proyecto\n",
    "\n",
    "* cargar cada archivo, decomprimirlo, decodearlo\n",
    "\n",
    "* eliminar keys duplicadas\n",
    "\n",
    "* flatenizar jsons anidados\n",
    "\n",
    "* eliminar filas vacias\n",
    "\n",
    "* guardar como csv"
   ]
  },
  {
   "cell_type": "markdown",
   "metadata": {},
   "source": [
    "# steam_games ETL"
   ]
  },
  {
   "cell_type": "code",
   "execution_count": 19,
   "metadata": {},
   "outputs": [],
   "source": [
    "#lectura y descompresión\n",
    "data = []\n",
    "with gzip.open('steam_games.json.gz','rb') as f:\n",
    "    for line in f:\n",
    "        data.append(json.loads(line))\n",
    "\n",
    "df_steam_games = pd.DataFrame(data)\n",
    "f.close()"
   ]
  },
  {
   "cell_type": "code",
   "execution_count": 21,
   "metadata": {},
   "outputs": [
    {
     "data": {
      "text/plain": [
       "(120445, 13)"
      ]
     },
     "execution_count": 21,
     "metadata": {},
     "output_type": "execute_result"
    }
   ],
   "source": [
    "#dimensiones\n",
    "df_steam_games.shape"
   ]
  },
  {
   "cell_type": "code",
   "execution_count": 23,
   "metadata": {},
   "outputs": [
    {
     "data": {
      "text/plain": [
       "(32133, 13)"
      ]
     },
     "execution_count": 23,
     "metadata": {},
     "output_type": "execute_result"
    }
   ],
   "source": [
    "#eliminar duplicados\n",
    "df_steam_games.drop_duplicates(subset=\"id\", inplace=True)\n",
    "#dimensiones\n",
    "df_steam_games.shape\n"
   ]
  },
  {
   "cell_type": "code",
   "execution_count": 24,
   "metadata": {},
   "outputs": [
    {
     "data": {
      "text/plain": [
       "(32132, 13)"
      ]
     },
     "execution_count": 24,
     "metadata": {},
     "output_type": "execute_result"
    }
   ],
   "source": [
    "#eliminar nulos\n",
    "df_steam_games.dropna(how=\"all\", inplace=True)\n",
    "#dimensiones\n",
    "df_steam_games.shape"
   ]
  },
  {
   "cell_type": "code",
   "execution_count": 26,
   "metadata": {},
   "outputs": [],
   "source": [
    "#guardar como csv\n",
    "df_steam_games.to_csv(r'csv/steam_game.csv',index=False)"
   ]
  },
  {
   "cell_type": "markdown",
   "metadata": {},
   "source": [
    "# user_reviews ETL\n",
    "\n",
    "Se utiliza ast por que el json no esta en un formato standard, las keys estan encerradas en comillas simples"
   ]
  },
  {
   "cell_type": "code",
   "execution_count": 27,
   "metadata": {},
   "outputs": [],
   "source": [
    "#lectura y descompresión\n",
    "data = []\n",
    "with gzip.open('user_reviews.json.gz','rb') as f:\n",
    "    for line in f:\n",
    "        data.append(ast.literal_eval(line.decode('utf-8')))\n",
    "\n",
    "df_user_reviews = pd.DataFrame(data)\n",
    "f.close()"
   ]
  },
  {
   "cell_type": "code",
   "execution_count": 28,
   "metadata": {},
   "outputs": [
    {
     "data": {
      "text/plain": [
       "(25799, 3)"
      ]
     },
     "execution_count": 28,
     "metadata": {},
     "output_type": "execute_result"
    }
   ],
   "source": [
    "#dimensiones\n",
    "df_user_reviews.shape"
   ]
  },
  {
   "cell_type": "code",
   "execution_count": 29,
   "metadata": {},
   "outputs": [
    {
     "data": {
      "text/plain": [
       "(25485, 3)"
      ]
     },
     "execution_count": 29,
     "metadata": {},
     "output_type": "execute_result"
    }
   ],
   "source": [
    "#eliminar duplicados\n",
    "df_user_reviews.drop_duplicates(subset=\"user_id\", inplace=True)\n",
    "#dimensiones\n",
    "df_user_reviews.shape"
   ]
  },
  {
   "cell_type": "code",
   "execution_count": 30,
   "metadata": {},
   "outputs": [
    {
     "data": {
      "text/plain": [
       "(58430, 9)"
      ]
     },
     "execution_count": 30,
     "metadata": {},
     "output_type": "execute_result"
    }
   ],
   "source": [
    "# flatenizar\n",
    "data = []\n",
    "for indice, fila in df_user_reviews.iterrows():\n",
    "    id = fila['user_id']\n",
    "    url = fila['user_url']\n",
    "    data.extend([{'user_id': id, 'user_url': url, **review} for review in fila['reviews']])\n",
    "df_user_reviews = pd.DataFrame(data)\n",
    "#dimensiones\n",
    "df_user_reviews.shape"
   ]
  },
  {
   "cell_type": "code",
   "execution_count": 41,
   "metadata": {},
   "outputs": [
    {
     "data": {
      "text/plain": [
       "(58430, 9)"
      ]
     },
     "execution_count": 41,
     "metadata": {},
     "output_type": "execute_result"
    }
   ],
   "source": [
    "#eliminar nulos\n",
    "df_user_reviews.dropna(how=\"all\", inplace=True)\n",
    "#dimensiones\n",
    "df_user_reviews.shape"
   ]
  },
  {
   "cell_type": "code",
   "execution_count": 42,
   "metadata": {},
   "outputs": [],
   "source": [
    "#guardar como csv\n",
    "df_user_reviews.to_csv(r'csv/user_reviews.csv',index=False)"
   ]
  },
  {
   "cell_type": "markdown",
   "metadata": {},
   "source": [
    "# users_item ETL"
   ]
  },
  {
   "cell_type": "code",
   "execution_count": 34,
   "metadata": {},
   "outputs": [],
   "source": [
    "\n",
    "#lectura y descompresión\n",
    "data = []\n",
    "with gzip.open('users_items.json.gz','rb') as f:\n",
    "    for line in f:\n",
    "        data.append(ast.literal_eval(line.decode('utf-8')))\n",
    "\n",
    "df_users_items = pd.DataFrame(data)\n",
    "f.close()"
   ]
  },
  {
   "cell_type": "code",
   "execution_count": 35,
   "metadata": {},
   "outputs": [
    {
     "data": {
      "text/plain": [
       "(88310, 5)"
      ]
     },
     "execution_count": 35,
     "metadata": {},
     "output_type": "execute_result"
    }
   ],
   "source": [
    "#dimensiones\n",
    "df_users_items.shape"
   ]
  },
  {
   "cell_type": "code",
   "execution_count": 36,
   "metadata": {},
   "outputs": [
    {
     "data": {
      "text/plain": [
       "(87626, 5)"
      ]
     },
     "execution_count": 36,
     "metadata": {},
     "output_type": "execute_result"
    }
   ],
   "source": [
    "#eliminar duplicados\n",
    "df_users_items.drop_duplicates(subset=\"user_id\", inplace=True)\n",
    "#dimensiones\n",
    "df_users_items.shape"
   ]
  },
  {
   "cell_type": "code",
   "execution_count": 37,
   "metadata": {},
   "outputs": [
    {
     "data": {
      "text/plain": [
       "(5094082, 6)"
      ]
     },
     "execution_count": 37,
     "metadata": {},
     "output_type": "execute_result"
    }
   ],
   "source": [
    "# flatenizar\n",
    "data = []\n",
    "for indice, fila in df_users_items.iterrows():\n",
    "    id = fila['user_id']\n",
    "    url = fila['user_url']\n",
    "    data.extend([{'user_id': id, 'user_url': url, **item} for item in fila['items']])\n",
    "df_users_items = pd.DataFrame(data)\n",
    "#dimensiones\n",
    "df_users_items.shape"
   ]
  },
  {
   "cell_type": "code",
   "execution_count": 38,
   "metadata": {},
   "outputs": [
    {
     "data": {
      "text/plain": [
       "(5094082, 6)"
      ]
     },
     "execution_count": 38,
     "metadata": {},
     "output_type": "execute_result"
    }
   ],
   "source": [
    "#eliminar nulos\n",
    "df_users_items.dropna(how=\"all\", inplace=True)\n",
    "#dimensiones\n",
    "df_users_items.shape"
   ]
  },
  {
   "cell_type": "code",
   "execution_count": 40,
   "metadata": {},
   "outputs": [],
   "source": [
    "#guardar como csv\n",
    "df_users_items.to_csv(r'csv/users_items.csv',index=False)"
   ]
  }
 ],
 "metadata": {
  "kernelspec": {
   "display_name": "Python 3",
   "language": "python",
   "name": "python3"
  },
  "language_info": {
   "codemirror_mode": {
    "name": "ipython",
    "version": 3
   },
   "file_extension": ".py",
   "mimetype": "text/x-python",
   "name": "python",
   "nbconvert_exporter": "python",
   "pygments_lexer": "ipython3",
   "version": "3.8.10"
  }
 },
 "nbformat": 4,
 "nbformat_minor": 2
}
